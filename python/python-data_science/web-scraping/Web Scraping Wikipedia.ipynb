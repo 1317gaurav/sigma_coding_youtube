{
 "cells": [
  {
   "cell_type": "markdown",
   "metadata": {},
   "source": [
    "# Web Scraping With Beautiful Soup in Python\n",
    "\n",
    "Web Scraping is a technique employed to extract large amounts of data from websites whereby the data is retrieved and saved to a local file in your computer or to a database in a table (spreadsheet) format. This process of web scraping can be a time-consuming as it requires us to know the layout of the document and isolate the items. However, Python users have access to a robust library that makes the process of web scraping easy & quick. The name of this library is `BeautifulSoup` and comes preinstalled on the Anaconda platform.\n",
    "\n",
    "In this tutorial, we will explore how to use this library to scrape a Wikipedia page for data."
   ]
  },
  {
   "cell_type": "markdown",
   "metadata": {},
   "source": [
    "<div class=\"alert alert-block alert-info\">\n",
    "<b>Tip:</b> If you do not have `BeautifulSoup` installed on Python simply run the follwing pip command `pip install beautifulsoup4`.\n",
    "</div>"
   ]
  },
  {
   "cell_type": "markdown",
   "metadata": {},
   "source": [
    "## Section One: Getting the Web Page Content\n",
    "\n",
    "The first thing we will do is import the libraries and modules. The most obvious one is the `BeautifulSoup` library as this is the library we will be using to scrape the page. However, to get the HTML content of the web page, we will need one more library; the `urllib.request` Library. This library is used to open the URL we want to scrape and then pass the HTML content of that page into the Beautiful Soup parser."
   ]
  },
  {
   "cell_type": "code",
   "execution_count": 1,
   "metadata": {},
   "outputs": [],
   "source": [
    "# beautiful soup libraries\n",
    "from bs4 import BeautifulSoup\n",
    "from urllib.request import Request, urlopen\n",
    "import urllib.request"
   ]
  },
  {
   "cell_type": "markdown",
   "metadata": {},
   "source": [
    "With our libraries & modules imported, let's get started by defining the webpage URL & then requesting it. Once we have our request object, we can pass it through our BeautifulSoup object, while making sure to specify the `html.parser` as the content of the response object is HTML. The loading process is the real beauty of the `BeautifulSoup` library, **as it handles all the content for use behind the scenes.**"
   ]
  },
  {
   "cell_type": "code",
   "execution_count": 2,
   "metadata": {},
   "outputs": [],
   "source": [
    "# Define & request the url that we want to scrape\n",
    "wiki_url = r\"https://en.wikipedia.org/wiki/Eastern_Front_(World_War_II)\"\n",
    "html_content = urllib.request.urlopen(wiki_url)\n",
    "\n",
    "# Pass the html_content(the webpage) through our beautiful soup object\n",
    "soup = BeautifulSoup(html_content, 'html.parser')"
   ]
  },
  {
   "cell_type": "markdown",
   "metadata": {},
   "source": [
    "Once the content is loaded, we have a new BeautifulSoup object that we can easily traverse. Here is a simple example where we use the `find` method to find the first `a` tag in our HTML code. Now, we can make our search a little more narrow by defining an attribute we want to identify. In this example, I want the `href` attribute to exist in my `a` tag."
   ]
  },
  {
   "cell_type": "code",
   "execution_count": 3,
   "metadata": {},
   "outputs": [
    {
     "data": {
      "text/plain": [
       "<a href=\"/wiki/Wikipedia:Protection_policy#semi\" title=\"This article is semi-protected until June 21, 2019 at 18:17 UTC.\"><img alt=\"Page semi-protected\" data-file-height=\"512\" data-file-width=\"512\" decoding=\"async\" height=\"20\" src=\"//upload.wikimedia.org/wikipedia/en/thumb/1/1b/Semi-protection-shackle.svg/20px-Semi-protection-shackle.svg.png\" srcset=\"//upload.wikimedia.org/wikipedia/en/thumb/1/1b/Semi-protection-shackle.svg/30px-Semi-protection-shackle.svg.png 1.5x, //upload.wikimedia.org/wikipedia/en/thumb/1/1b/Semi-protection-shackle.svg/40px-Semi-protection-shackle.svg.png 2x\" width=\"20\"/></a>"
      ]
     },
     "metadata": {},
     "output_type": "display_data"
    }
   ],
   "source": [
    "# find the first `a` tag that has an `href` attribute.\n",
    "link = soup.find('a', href=True)\n",
    "\n",
    "display(link)"
   ]
  },
  {
   "cell_type": "markdown",
   "metadata": {},
   "source": [
    "## Section Two: Tag Objects\n",
    "\n",
    "It's not apparent at first, but any object that we look for is returned to us as another object that has specific properties about it. To be more explicit, it's a beautiful soup tag object. This particular object has particular features that make retrieving different portions of it more manageable.\n",
    "\n",
    ">- **name:**  This is the name of the tag.\n",
    ">- **text:**  This is the readable text of the label if there is any.\n",
    ">- **attrs:** This returns a dictionary of each attribute behaving as the key and the corresponding info as the value.\n",
    "\n",
    "To access any of the attributes, we call the object and then pass through the key which will return the value."
   ]
  },
  {
   "cell_type": "code",
   "execution_count": 4,
   "metadata": {},
   "outputs": [
    {
     "data": {
      "text/plain": [
       "bs4.element.Tag"
      ]
     },
     "metadata": {},
     "output_type": "display_data"
    },
    {
     "data": {
      "text/plain": [
       "'a'"
      ]
     },
     "metadata": {},
     "output_type": "display_data"
    },
    {
     "data": {
      "text/plain": [
       "{'href': '/wiki/Wikipedia:Protection_policy#semi',\n",
       " 'title': 'This article is semi-protected until June 21, 2019 at 18:17 UTC.'}"
      ]
     },
     "metadata": {},
     "output_type": "display_data"
    },
    {
     "data": {
      "text/plain": [
       "'/wiki/Wikipedia:Protection_policy#semi'"
      ]
     },
     "metadata": {},
     "output_type": "display_data"
    },
    {
     "data": {
      "text/plain": [
       "'This article is semi-protected until June 21, 2019 at 18:17 UTC.'"
      ]
     },
     "metadata": {},
     "output_type": "display_data"
    },
    {
     "data": {
      "text/plain": [
       "''"
      ]
     },
     "metadata": {},
     "output_type": "display_data"
    }
   ],
   "source": [
    "# what is the type.\n",
    "display(type(link))\n",
    "\n",
    "# define the name.\n",
    "display(link.name)\n",
    "\n",
    "# get the dictionary attribute.\n",
    "display(link.attrs)\n",
    "\n",
    "# lets get each value in that dictionary, luckily there is only 2.\n",
    "display(link['href'])\n",
    "display(link['title'])\n",
    "\n",
    "# we can also get the text, if there is any. In this case there wasn't any text to return so it just returns an empty string.\n",
    "display(link.text)"
   ]
  },
  {
   "cell_type": "markdown",
   "metadata": {},
   "source": [
    "## Section Three: Finding Tags & Content\n",
    "\n",
    "We've seen how to search for one tag, but what if want to search for multiple tags of the same type. Well, this is almost identical to searching for one tag we change the method we use to **`find_all`**. In this example, I use `find_all` to find all the `a` tags in the document, I still only want the ones that have a link, so I keep the `href` attribute set to the value `True`."
   ]
  },
  {
   "cell_type": "code",
   "execution_count": 5,
   "metadata": {},
   "outputs": [
    {
     "data": {
      "text/plain": [
       "bs4.element.ResultSet"
      ]
     },
     "metadata": {},
     "output_type": "display_data"
    },
    {
     "name": "stdout",
     "output_type": "stream",
     "text": [
      "/wiki/Wikipedia:Protection_policy#semi\n",
      "#mw-head\n",
      "#p-search\n",
      "/wiki/Great_Patriotic_War_(term)\n",
      "/wiki/The_Great_Patriotic_War_(The_Americans)\n",
      "/wiki/Patriotic_War_of_1812\n",
      "/wiki/European_theatre_of_World_War_II\n",
      "/wiki/World_War_II\n",
      "/wiki/File:EasternFrontWWIIcolage.png\n",
      "/wiki/Ilyushin_Il-2\n"
     ]
    }
   ],
   "source": [
    "# find all the links in the document.\n",
    "links = soup.find_all('a', href=True)\n",
    "\n",
    "# what is the type of this links object, it should be a bs4.element.ResultSet.\n",
    "display(type(links))\n",
    "\n",
    "# we can iterate through this result set using a for loop. In this loop I grab the href and limit the result sets to 10 items.\n",
    "for link in links[0:10]:\n",
    "    print(link['href'])"
   ]
  },
  {
   "cell_type": "markdown",
   "metadata": {},
   "source": [
    "We've seen how using `find_all` can make the process of getting the tags we want significantly easier. However, we just looked at some simple examples. This particular method is very flexible as it allows us to find some of the following:\n",
    "\n",
    ">- Multiple Tags\n",
    ">- Tags with specific attributes\n",
    ">- Tags with specific attributes & attribute values.\n",
    ">- Using functions to narrow our search.\n",
    "\n",
    "Here are some more \"advanced\" examples of using `find_all`."
   ]
  },
  {
   "cell_type": "code",
   "execution_count": 6,
   "metadata": {},
   "outputs": [],
   "source": [
    "# return a list of all the <table> & and <a> tag \n",
    "tables_and_links = soup.find_all(['a', 'table'])\n",
    "\n",
    "# return a list of all the <table> tag with a 'content' attribute\n",
    "tables_with_cont = soup.find_all('th', style=\"width: 10%;\")\n",
    "\n",
    "# return a list of all the <div> tags that have a class attribute of 'navbox'\n",
    "div_with_nav = soup.find_all('div','navbox')\n",
    "\n",
    "# define a function to find the item\n",
    "def list_with_links(tag):\n",
    "    return tag.name == 'li' and len(tag.find_all('a'))> 7\n",
    "\n",
    "# use the function with find_all\n",
    "list_items_with_links = soup.find_all(list_with_links)"
   ]
  },
  {
   "cell_type": "markdown",
   "metadata": {},
   "source": [
    "## Section Four: The Beautiful Soup Family Tree\n",
    "\n",
    "Navigating the HTML tree is pretty simple, once you understand it's relationship to other elements in the document. For example, multiple items can fall under the same tag. Take, for example, a simple document provided by BeautifulSoup\n",
    "\n",
    "`<html>\n",
    "  <body>\n",
    "   <a>\n",
    "    <b>\n",
    "     text1\n",
    "    </b>\n",
    "    <c>\n",
    "     text2\n",
    "    </c>\n",
    "   </a>\n",
    "  </body>\n",
    " </html>`\n",
    " \n",
    "Let's explore the different types of relationships available to us in the BeautifulSoup library."
   ]
  },
  {
   "cell_type": "code",
   "execution_count": 7,
   "metadata": {},
   "outputs": [
    {
     "name": "stdout",
     "output_type": "stream",
     "text": [
      "<html>\n",
      " <body>\n",
      "  <a>\n",
      "   <b>\n",
      "    text1\n",
      "   </b>\n",
      "   <c>\n",
      "    text2\n",
      "   </c>\n",
      "  </a>\n",
      " </body>\n",
      "</html>\n"
     ]
    }
   ],
   "source": [
    "# define the simple tree we see above.\n",
    "simple_tree = \"\"\"<html><body><a><b>text1</b><c>text2</c></a></body></html>\"\"\"\n",
    "\n",
    "# pass the simple tree into our Parser to create some simple soup.\n",
    "simple_soup = BeautifulSoup(simple_tree, 'html.parser')\n",
    "\n",
    "# we can always print it in a familiar structure.\n",
    "print(simple_soup.prettify())"
   ]
  },
  {
   "cell_type": "markdown",
   "metadata": {},
   "source": [
    "***\n",
    "### Going down the tree: Children\n",
    "We notice that in our HTML code above that we have tags within tags, the tags contained in other tags are the **Children** and in Beautiful Soup we have different ways for moving through these children. If you look at the simple tree above, both tag `b` and tag `c` are children of the tag `a`. Let's see how we can access those children."
   ]
  },
  {
   "cell_type": "code",
   "execution_count": 8,
   "metadata": {},
   "outputs": [
    {
     "data": {
      "text/plain": [
       "[<b>text1</b>, <c>text2</c>]"
      ]
     },
     "metadata": {},
     "output_type": "display_data"
    },
    {
     "data": {
      "text/plain": [
       "<b>text1</b>"
      ]
     },
     "metadata": {},
     "output_type": "display_data"
    },
    {
     "data": {
      "text/plain": [
       "<b>text1</b>"
      ]
     },
     "metadata": {},
     "output_type": "display_data"
    },
    {
     "data": {
      "text/plain": [
       "<c>text2</c>"
      ]
     },
     "metadata": {},
     "output_type": "display_data"
    }
   ],
   "source": [
    "# if we want just a list of the children we could use the Contents attribute\n",
    "a_content = simple_soup.a.contents\n",
    "\n",
    "# display the list\n",
    "display(a_content)\n",
    "\n",
    "# display the first child\n",
    "display(a_content[0])\n",
    "\n",
    "# if we want to create a generator to iterate over them vice a list we can use the `children` attribute\n",
    "for child in simple_soup.a.children:\n",
    "    display(child)"
   ]
  },
  {
   "cell_type": "markdown",
   "metadata": {},
   "source": [
    "***\n",
    "### Going down the tree: Descendants\n",
    "When using the `contents` & `childrens` attribute, we are only considering tags direct children, the ones that fall underneath that tag. However, if wanted all the tags beneath the children we would need to use the `descendants` attribute. The `descendants` attribute returns not just the children, but the children within the children."
   ]
  },
  {
   "cell_type": "code",
   "execution_count": 9,
   "metadata": {},
   "outputs": [
    {
     "data": {
      "text/plain": [
       "2"
      ]
     },
     "metadata": {},
     "output_type": "display_data"
    },
    {
     "data": {
      "text/plain": [
       "4"
      ]
     },
     "metadata": {},
     "output_type": "display_data"
    },
    {
     "name": "stdout",
     "output_type": "stream",
     "text": [
      "<b>text1</b>\n",
      "text1\n",
      "<c>text2</c>\n",
      "text2\n"
     ]
    }
   ],
   "source": [
    "# let's first verify there is a difference\n",
    "display(len(list(simple_soup.a.children)))\n",
    "display(len(list(simple_soup.a.descendants)))\n",
    "\n",
    "# greate so we know there is a difference, lets iterate through the descendants\n",
    "for descendant in simple_soup.a.descendants:\n",
    "    print(descendant)"
   ]
  },
  {
   "cell_type": "markdown",
   "metadata": {},
   "source": [
    "***\n",
    "### Going up the tree: Parent & Parents\n",
    "We now see that we can access the tags that are direct descendants of the tag in question. We refer to the accessing of these tags as going **down the tree**. If we can go down the tree, we should be able to go up the tree right? Correct, this is possible using the `parent` & `parents` attribute. The parent is **the tag that contains the tag we are referring to**. Here is how we access the parent/parents:"
   ]
  },
  {
   "cell_type": "code",
   "execution_count": 10,
   "metadata": {},
   "outputs": [
    {
     "data": {
      "text/plain": [
       "<body><a><b>text1</b><c>text2</c></a></body>"
      ]
     },
     "metadata": {},
     "output_type": "display_data"
    },
    {
     "data": {
      "text/plain": [
       "<html><body><a><b>text1</b><c>text2</c></a></body></html>"
      ]
     },
     "metadata": {},
     "output_type": "display_data"
    },
    {
     "name": "stdout",
     "output_type": "stream",
     "text": [
      "<body><a><b>text1</b><c>text2</c></a></body>\n",
      "<html><body><a><b>text1</b><c>text2</c></a></body></html>\n",
      "<html><body><a><b>text1</b><c>text2</c></a></body></html>\n"
     ]
    }
   ],
   "source": [
    "# lets see if tag `a` has a parent\n",
    "display(simple_soup.a.parent)\n",
    "\n",
    "# is there a parent of the parent?\n",
    "display(simple_soup.a.parent.parent)\n",
    "\n",
    "# looks like there is, but we can write this more concisely using a generator along with a for loop\n",
    "for parent in simple_soup.a.parents:\n",
    "    print(parent)"
   ]
  },
  {
   "cell_type": "markdown",
   "metadata": {},
   "source": [
    "***\n",
    "### Going Sideways\n",
    "In the simple tree up above, we would consider that element `<b>` and element `<c>` are **siblings** because they both fall under the same `a` tag element **the parent**. The `a` tag signifies that means we can navigate between the two using the `next_sibling` & `previous_sibling` properties. When we go from one sibling to the next, we are said to be going sideways because they both exist under the same tag."
   ]
  },
  {
   "cell_type": "code",
   "execution_count": 11,
   "metadata": {},
   "outputs": [
    {
     "data": {
      "text/plain": [
       "<b>text1</b>"
      ]
     },
     "metadata": {},
     "output_type": "display_data"
    },
    {
     "data": {
      "text/plain": [
       "<c>text2</c>"
      ]
     },
     "metadata": {},
     "output_type": "display_data"
    },
    {
     "data": {
      "text/plain": [
       "<b>text1</b>"
      ]
     },
     "metadata": {},
     "output_type": "display_data"
    },
    {
     "data": {
      "text/plain": [
       "None"
      ]
     },
     "metadata": {},
     "output_type": "display_data"
    }
   ],
   "source": [
    "# grab the b tag\n",
    "display(simple_soup.b)\n",
    "\n",
    "# grab the next sibling, this should be the c tag.\n",
    "display(simple_soup.b.next_sibling)\n",
    "\n",
    "# grab the previous sibling, this should be the b tag.\n",
    "display(simple_soup.c.previous_sibling)\n",
    "\n",
    "# if I call 'previous_sibling' on the b tag it will return none, that's because the 'b' tag has no siblings before it\n",
    "# grab the next sibling, this should be the c tag.\n",
    "display(simple_soup.b.previous_sibling)"
   ]
  },
  {
   "cell_type": "code",
   "execution_count": 12,
   "metadata": {},
   "outputs": [
    {
     "data": {
      "text/plain": [
       "'\\n'"
      ]
     },
     "metadata": {},
     "output_type": "display_data"
    },
    {
     "data": {
      "text/plain": [
       "<div class=\"hatnote navigation-not-searchable\" role=\"note\">\"Great Patriotic War\" redirects here. For a discussion of the term itself, see <a href=\"/wiki/Great_Patriotic_War_(term)\" title=\"Great Patriotic War (term)\">Great Patriotic War (term)</a>. For the episode of The Americans, see <a href=\"/wiki/The_Great_Patriotic_War_(The_Americans)\" title=\"The Great Patriotic War (The Americans)\">The Great Patriotic War (The Americans)</a>.</div>"
      ]
     },
     "metadata": {},
     "output_type": "display_data"
    },
    {
     "data": {
      "text/plain": [
       "'\\n'"
      ]
     },
     "metadata": {},
     "output_type": "display_data"
    },
    {
     "data": {
      "text/plain": [
       "<p class=\"mw-empty-elt\">\n",
       "</p>"
      ]
     },
     "metadata": {},
     "output_type": "display_data"
    }
   ],
   "source": [
    "# grab the first paragraph, and then get it's sibling\n",
    "display(soup.p.next_sibling)\n",
    "display(soup.p.next_sibling.next_sibling)\n",
    "\n",
    "# define the bottom\n",
    "bottom = soup.p.next_sibling.next_sibling\n",
    "\n",
    "# grab the first paragraph, and then get it's sibling\n",
    "display(bottom.previous_sibling)\n",
    "display(bottom.previous_sibling.previous_sibling)"
   ]
  },
  {
   "cell_type": "markdown",
   "metadata": {},
   "source": [
    "***\n",
    "### Going back & forth\n",
    "One of the simplest ways to navigate our simple tree is to use the `next_element` and the `previous_element` properties. All these two properties do is proceed down from top to bottom. If I want to go forward down my tree, I will use `next_element` and if I wanted to go backward up my tree I would specify the `previous_element`. Keep in mind that you don't have started at the beginning of the code to start traversing it, you can call the tag you want to start at and then go down."
   ]
  },
  {
   "cell_type": "markdown",
   "metadata": {},
   "source": [
    "<div class=\"alert alert-block alert-info\">\n",
    "<b>Tip:</b> Now a lot of people ask this, \"What's the difference between the next element versus the next sibling?\". The answer is simple when we talk about the next element we mean the next item that Beautiful Soup parsed. Just because it was the next item parsed does not mean it's a sibling.\n",
    "</div>"
   ]
  },
  {
   "cell_type": "code",
   "execution_count": 13,
   "metadata": {},
   "outputs": [
    {
     "data": {
      "text/plain": [
       "<body><a><b>text1</b><c>text2</c></a></body>"
      ]
     },
     "metadata": {},
     "output_type": "display_data"
    },
    {
     "data": {
      "text/plain": [
       "<a><b>text1</b><c>text2</c></a>"
      ]
     },
     "metadata": {},
     "output_type": "display_data"
    },
    {
     "data": {
      "text/plain": [
       "<b>text1</b>"
      ]
     },
     "metadata": {},
     "output_type": "display_data"
    }
   ],
   "source": [
    "# grab the body\n",
    "display(simple_soup.body)\n",
    "\n",
    "# grab the next element after the body, which would be the 'a' tag.\n",
    "display(simple_soup.body.next_element)\n",
    "\n",
    "# keep going forward\n",
    "display(simple_soup.body.next_element.next_element)"
   ]
  },
  {
   "cell_type": "code",
   "execution_count": 14,
   "metadata": {},
   "outputs": [
    {
     "data": {
      "text/plain": [
       "<b>text1</b>"
      ]
     },
     "metadata": {},
     "output_type": "display_data"
    },
    {
     "data": {
      "text/plain": [
       "<a><b>text1</b><c>text2</c></a>"
      ]
     },
     "metadata": {},
     "output_type": "display_data"
    },
    {
     "data": {
      "text/plain": [
       "<body><a><b>text1</b><c>text2</c></a></body>"
      ]
     },
     "metadata": {},
     "output_type": "display_data"
    }
   ],
   "source": [
    "# grab the b tag\n",
    "display(simple_soup.b)\n",
    "\n",
    "# grab the PREVIOUS element after the body, which would be the 'a' tag.\n",
    "display(simple_soup.b.previous_element)\n",
    "\n",
    "# keep going backwards\n",
    "display(simple_soup.b.previous_element.previous_element)"
   ]
  },
  {
   "cell_type": "code",
   "execution_count": 72,
   "metadata": {},
   "outputs": [
    {
     "data": {
      "text/plain": [
       "'\\n'"
      ]
     },
     "metadata": {},
     "output_type": "display_data"
    },
    {
     "data": {
      "text/plain": [
       "<caption>Comparative strengths of combat forces, Eastern Front, 1941–1945<sup class=\"reference\" id=\"cite_ref-37\"><a href=\"#cite_note-37\">[37]</a></sup><sup class=\"reference\" id=\"cite_ref-FOOTNOTEGlantz1998107_38-0\"><a href=\"#cite_note-FOOTNOTEGlantz1998107-38\">[38]</a></sup><sup class=\"reference\" id=\"cite_ref-FOOTNOTEGlantzHouse199568_39-0\"><a href=\"#cite_note-FOOTNOTEGlantzHouse199568-39\">[39]</a></sup>\n",
       "</caption>"
      ]
     },
     "metadata": {},
     "output_type": "display_data"
    },
    {
     "data": {
      "text/plain": [
       "'\\n'"
      ]
     },
     "metadata": {},
     "output_type": "display_data"
    },
    {
     "data": {
      "text/plain": [
       "', leader of the Free French, who thought that it was important for French servicemen to serve on all fronts.\\n'"
      ]
     },
     "metadata": {},
     "output_type": "display_data"
    }
   ],
   "source": [
    "# let's do an example with one of our tables\n",
    "my_table = soup.find_all('table')[5]\n",
    "\n",
    "# using next element\n",
    "display(my_table.next_element)\n",
    "display(my_table.next_element.next_element)\n",
    "\n",
    "# using previous element\n",
    "display(my_table.previous_element)\n",
    "display(my_table.previous_element.previous_element)"
   ]
  },
  {
   "cell_type": "markdown",
   "metadata": {},
   "source": [
    "***\n",
    "### Sibling & Element Generators\n",
    "What if I want all the siblings or all the next/previous elements that belong to a particular tag? Well up above, I made the process a little more complicated then it had to. What we could've done up above is instead of writing `next_sibling.next_sibling` we could've just called the `next_siblings` iterator to simple fetch all the siblings of that particular tag, and then we could iterate through each one of them. Here is how the above examples would look if we chose to follow that path:"
   ]
  },
  {
   "cell_type": "code",
   "execution_count": 16,
   "metadata": {},
   "outputs": [
    {
     "data": {
      "text/plain": [
       "<body><a><b>text1</b><c>text2</c></a></body>"
      ]
     },
     "metadata": {},
     "output_type": "display_data"
    },
    {
     "data": {
      "text/plain": [
       "<generator object next_elements at 0x00000157EE55C468>"
      ]
     },
     "metadata": {},
     "output_type": "display_data"
    },
    {
     "data": {
      "text/plain": [
       "<a><b>text1</b><c>text2</c></a>"
      ]
     },
     "metadata": {},
     "output_type": "display_data"
    },
    {
     "data": {
      "text/plain": [
       "<b>text1</b>"
      ]
     },
     "metadata": {},
     "output_type": "display_data"
    },
    {
     "data": {
      "text/plain": [
       "'text1'"
      ]
     },
     "metadata": {},
     "output_type": "display_data"
    },
    {
     "data": {
      "text/plain": [
       "<c>text2</c>"
      ]
     },
     "metadata": {},
     "output_type": "display_data"
    },
    {
     "data": {
      "text/plain": [
       "'text2'"
      ]
     },
     "metadata": {},
     "output_type": "display_data"
    }
   ],
   "source": [
    "# grab the body\n",
    "display(simple_soup.body)\n",
    "\n",
    "# create a next_elements generator\n",
    "display(simple_soup.body.next_elements)\n",
    "\n",
    "# loop through each element in the generator.\n",
    "for element in simple_soup.body.next_elements:    \n",
    "    display(element)"
   ]
  },
  {
   "cell_type": "code",
   "execution_count": 17,
   "metadata": {},
   "outputs": [
    {
     "data": {
      "text/plain": [
       "<b>text1</b>"
      ]
     },
     "metadata": {},
     "output_type": "display_data"
    },
    {
     "data": {
      "text/plain": [
       "<generator object previous_elements at 0x00000157EDDDDFC0>"
      ]
     },
     "metadata": {},
     "output_type": "display_data"
    },
    {
     "data": {
      "text/plain": [
       "<a><b>text1</b><c>text2</c></a>"
      ]
     },
     "metadata": {},
     "output_type": "display_data"
    },
    {
     "data": {
      "text/plain": [
       "<body><a><b>text1</b><c>text2</c></a></body>"
      ]
     },
     "metadata": {},
     "output_type": "display_data"
    },
    {
     "data": {
      "text/plain": [
       "<html><body><a><b>text1</b><c>text2</c></a></body></html>"
      ]
     },
     "metadata": {},
     "output_type": "display_data"
    }
   ],
   "source": [
    "# grab the b tag\n",
    "display(simple_soup.b)\n",
    "\n",
    "# create a previous_elements generator\n",
    "display(simple_soup.b.previous_elements)\n",
    "\n",
    "# loop through each element in the generator.\n",
    "for element in simple_soup.b.previous_elements:    \n",
    "    display(element)"
   ]
  },
  {
   "cell_type": "markdown",
   "metadata": {},
   "source": [
    "## More Wikipedia Examples\n",
    "Okay, so now that we know, the whole structure of our tree let's put it to work. In the example below I will find all the tables in my soup, specify the sixth one because I like that one, and then create all of my necessary generators."
   ]
  },
  {
   "cell_type": "code",
   "execution_count": 67,
   "metadata": {},
   "outputs": [],
   "source": [
    "# get my table\n",
    "table = soup.find_all('tr')[5]\n",
    "\n",
    "# define my generators\n",
    "the_parents = table.parents\n",
    "the_children = table.children\n",
    "the_descendants = table.descendants\n",
    "\n",
    "next_sibs = table.next_siblings\n",
    "prev_sibs = table.previous_siblings\n",
    "next_elem = table.next_elements\n",
    "prev_elem = table.previous_elements"
   ]
  },
  {
   "cell_type": "code",
   "execution_count": 36,
   "metadata": {},
   "outputs": [
    {
     "name": "stdout",
     "output_type": "stream",
     "text": [
      "-----------------------------\n",
      "<th style=\"padding-right:1em\">Location</th>\n",
      "-----------------------------\n",
      "<td><div class=\"location\">Europe east of Germany: <a href=\"/wiki/Central_and_Eastern_Europe\" title=\"Central and Eastern Europe\">Central and Eastern Europe</a>, in later stages Germany and Austria</div></td>\n"
     ]
    }
   ],
   "source": [
    "for child in list(the_children):\n",
    "    print('-----------------------------')\n",
    "    print(child)"
   ]
  },
  {
   "cell_type": "code",
   "execution_count": 37,
   "metadata": {},
   "outputs": [
    {
     "name": "stdout",
     "output_type": "stream",
     "text": [
      "-----------------------------\n",
      "<th style=\"padding-right:1em\">Location</th>\n",
      "-----------------------------\n",
      "Location\n",
      "-----------------------------\n",
      "<td><div class=\"location\">Europe east of Germany: <a href=\"/wiki/Central_and_Eastern_Europe\" title=\"Central and Eastern Europe\">Central and Eastern Europe</a>, in later stages Germany and Austria</div></td>\n",
      "-----------------------------\n",
      "<div class=\"location\">Europe east of Germany: <a href=\"/wiki/Central_and_Eastern_Europe\" title=\"Central and Eastern Europe\">Central and Eastern Europe</a>, in later stages Germany and Austria</div>\n",
      "-----------------------------\n",
      "Europe east of Germany: \n",
      "-----------------------------\n",
      "<a href=\"/wiki/Central_and_Eastern_Europe\" title=\"Central and Eastern Europe\">Central and Eastern Europe</a>\n",
      "-----------------------------\n",
      "Central and Eastern Europe\n",
      "-----------------------------\n",
      ", in later stages Germany and Austria\n"
     ]
    }
   ],
   "source": [
    "for descendant in the_descendants:  \n",
    "    print('-----------------------------')\n",
    "    print(descendant)"
   ]
  },
  {
   "cell_type": "code",
   "execution_count": 44,
   "metadata": {},
   "outputs": [
    {
     "name": "stdout",
     "output_type": "stream",
     "text": [
      "----------------------------\n",
      "<tr><th style=\"padding-right:1em\">Result</th><td>\n",
      "<p>Soviet victory\n",
      "</p>\n",
      "<ul><li>Fall of the <a class=\"mw-redirect\" href=\"/wiki/Third_Reich\" title=\"Third Reich\">Third Reich</a></li>\n",
      "<li><a class=\"mw-redirect\" href=\"/wiki/Allied_occupation_of_Germany\" title=\"Allied occupation of Germany\">Allied occupation of Germany</a></li>\n",
      "<li>Beginning of the <a href=\"/wiki/Cold_War\" title=\"Cold War\">Cold War</a> and creation of the <a href=\"/wiki/Eastern_Bloc\" title=\"Eastern Bloc\">Eastern Bloc</a> and the <a href=\"/wiki/Iron_Curtain\" title=\"Iron Curtain\">Iron Curtain</a></li>\n",
      "<li>Beginning of the <a href=\"/wiki/Greek_Civil_War\" title=\"Greek Civil War\">Greek Civil War</a></li></ul></td></tr>\n",
      "----------------------------\n",
      "<tr><th style=\"padding-right:1em\">Territorial<br/>changes</th><td>\n",
      "<li>The Soviet Union occupies <a href=\"/wiki/Central_Europe\" title=\"Central Europe\">Central</a>, <a href=\"/wiki/Eastern_Europe\" title=\"Eastern Europe\">Eastern</a>, <a class=\"mw-redirect\" href=\"/wiki/Northeastern_Europe\" title=\"Northeastern Europe\">Northeastern</a> and <a class=\"mw-redirect\" href=\"/wiki/Southeastern_Europe\" title=\"Southeastern Europe\">Southeastern Europe</a> and establishes pro-Soviet <a href=\"/wiki/Communist_state\" title=\"Communist state\">communist</a> <a href=\"/wiki/Puppet_state\" title=\"Puppet state\">puppet governments</a> in countries including <a href=\"/wiki/People%27s_Republic_of_Bulgaria\" title=\"People's Republic of Bulgaria\">Bulgaria</a>, <a href=\"/wiki/Czechoslovak_Socialist_Republic\" title=\"Czechoslovak Socialist Republic\">Czechoslovakia</a>, <a href=\"/wiki/Hungarian_People%27s_Republic\" title=\"Hungarian People's Republic\">Hungary</a>, <a href=\"/wiki/Polish_People%27s_Republic\" title=\"Polish People's Republic\">Poland</a>, <a class=\"mw-redirect\" href=\"/wiki/Romanian_People%27s_Republic\" title=\"Romanian People's Republic\">Romania</a>, and <a href=\"/wiki/East_Germany\" title=\"East Germany\">Eastern Germany</a>.</li>\n",
      "<li>Establishment of the <a class=\"mw-redirect\" href=\"/wiki/Federal_People%27s_Republic_of_Yugoslavia\" title=\"Federal People's Republic of Yugoslavia\">Federal People's Republic of Yugoslavia</a></li>\n",
      "<li><a href=\"/wiki/History_of_Germany_(1945%E2%80%931990)\" title=\"History of Germany (1945–1990)\">Partition of Germany</a></li>\n",
      "<li><a href=\"/wiki/Territorial_changes_of_Poland_immediately_after_World_War_II\" title=\"Territorial changes of Poland immediately after World War II\">Borders of Poland changed</a>.</li></td></tr>\n"
     ]
    }
   ],
   "source": [
    "for sib in next_sibs:\n",
    "    print('----------------------------')\n",
    "    print(sib)"
   ]
  },
  {
   "cell_type": "code",
   "execution_count": 45,
   "metadata": {},
   "outputs": [
    {
     "name": "stdout",
     "output_type": "stream",
     "text": [
      "----------------------------\n",
      "<tr><th style=\"padding-right:1em\">Date</th><td>22 June 1941<span style=\"display:none\"> (<span class=\"bday dtstart published updated\">1941-06-22</span>)</span> – 25 May 1945<span style=\"display:none\"> (<span class=\"bday dtstart published updated\">1945-05-25</span>)</span><sup class=\"reference\" id=\"cite_ref-2\"><a href=\"#cite_note-2\">[2]</a></sup><br/>(3 years, 11 months and 3 days)</td></tr>\n"
     ]
    }
   ],
   "source": [
    "for sib in prev_sibs:\n",
    "    print('----------------------------')\n",
    "    print(sib)"
   ]
  },
  {
   "cell_type": "code",
   "execution_count": 68,
   "metadata": {},
   "outputs": [
    {
     "name": "stdout",
     "output_type": "stream",
     "text": [
      "----------------------------\n",
      "<th style=\"padding-right:1em\">Location</th>\n",
      "----------------------------\n",
      "Location\n"
     ]
    }
   ],
   "source": [
    "# just for speed purposes, let's only do a few next elements\n",
    "next_list = list(next_elem)\n",
    "\n",
    "for elem in next_list[0:2]:\n",
    "    print('----------------------------')\n",
    "    print(elem)"
   ]
  },
  {
   "cell_type": "code",
   "execution_count": 70,
   "metadata": {},
   "outputs": [
    {
     "name": "stdout",
     "output_type": "stream",
     "text": [
      "----------------------------\n",
      "(3 years, 11 months and 3 days)\n",
      "----------------------------\n",
      "<br/>\n"
     ]
    }
   ],
   "source": [
    "# just for speed purposes, let's only do a few previous elements\n",
    "prev_list = list(prev_elem)\n",
    "\n",
    "for elem in prev_list[0:2]:\n",
    "    print('----------------------------')\n",
    "    print(elem)"
   ]
  },
  {
   "cell_type": "code",
   "execution_count": 69,
   "metadata": {},
   "outputs": [
    {
     "name": "stdout",
     "output_type": "stream",
     "text": [
      "----------------------------\n",
      "<tbody><tr><th style=\"padding-right:1em\">Date</th><td>22 June 1941<span style=\"display:none\"> (<span class=\"bday dtstart published updated\">1941-06-22</span>)</span> – 25 May 1945<span style=\"display:none\"> (<span class=\"bday dtstart published updated\">1945-05-25</span>)</span><sup class=\"reference\" id=\"cite_ref-2\"><a href=\"#cite_note-2\">[2]</a></sup><br/>(3 years, 11 months and 3 days)</td></tr><tr><th style=\"padding-right:1em\">Location</th><td><div class=\"location\">Europe east of Germany: <a href=\"/wiki/Central_and_Eastern_Europe\" title=\"Central and Eastern Europe\">Central and Eastern Europe</a>, in later stages Germany and Austria</div></td></tr><tr><th style=\"padding-right:1em\">Result</th><td>\n",
      "<p>Soviet victory\n",
      "</p>\n",
      "<ul><li>Fall of the <a class=\"mw-redirect\" href=\"/wiki/Third_Reich\" title=\"Third Reich\">Third Reich</a></li>\n",
      "<li><a class=\"mw-redirect\" href=\"/wiki/Allied_occupation_of_Germany\" title=\"Allied occupation of Germany\">Allied occupation of Germany</a></li>\n",
      "<li>Beginning of the <a href=\"/wiki/Cold_War\" title=\"Cold War\">Cold War</a> and creation of the <a href=\"/wiki/Eastern_Bloc\" title=\"Eastern Bloc\">Eastern Bloc</a> and the <a href=\"/wiki/Iron_Curtain\" title=\"Iron Curtain\">Iron Curtain</a></li>\n",
      "<li>Beginning of the <a href=\"/wiki/Greek_Civil_War\" title=\"Greek Civil War\">Greek Civil War</a></li></ul></td></tr><tr><th style=\"padding-right:1em\">Territorial<br/>changes</th><td>\n",
      "<li>The Soviet Union occupies <a href=\"/wiki/Central_Europe\" title=\"Central Europe\">Central</a>, <a href=\"/wiki/Eastern_Europe\" title=\"Eastern Europe\">Eastern</a>, <a class=\"mw-redirect\" href=\"/wiki/Northeastern_Europe\" title=\"Northeastern Europe\">Northeastern</a> and <a class=\"mw-redirect\" href=\"/wiki/Southeastern_Europe\" title=\"Southeastern Europe\">Southeastern Europe</a> and establishes pro-Soviet <a href=\"/wiki/Communist_state\" title=\"Communist state\">communist</a> <a href=\"/wiki/Puppet_state\" title=\"Puppet state\">puppet governments</a> in countries including <a href=\"/wiki/People%27s_Republic_of_Bulgaria\" title=\"People's Republic of Bulgaria\">Bulgaria</a>, <a href=\"/wiki/Czechoslovak_Socialist_Republic\" title=\"Czechoslovak Socialist Republic\">Czechoslovakia</a>, <a href=\"/wiki/Hungarian_People%27s_Republic\" title=\"Hungarian People's Republic\">Hungary</a>, <a href=\"/wiki/Polish_People%27s_Republic\" title=\"Polish People's Republic\">Poland</a>, <a class=\"mw-redirect\" href=\"/wiki/Romanian_People%27s_Republic\" title=\"Romanian People's Republic\">Romania</a>, and <a href=\"/wiki/East_Germany\" title=\"East Germany\">Eastern Germany</a>.</li>\n",
      "<li>Establishment of the <a class=\"mw-redirect\" href=\"/wiki/Federal_People%27s_Republic_of_Yugoslavia\" title=\"Federal People's Republic of Yugoslavia\">Federal People's Republic of Yugoslavia</a></li>\n",
      "<li><a href=\"/wiki/History_of_Germany_(1945%E2%80%931990)\" title=\"History of Germany (1945–1990)\">Partition of Germany</a></li>\n",
      "<li><a href=\"/wiki/Territorial_changes_of_Poland_immediately_after_World_War_II\" title=\"Territorial changes of Poland immediately after World War II\">Borders of Poland changed</a>.</li></td></tr></tbody>\n",
      "----------------------------\n",
      "<table style=\"width:100%;margin:0;padding:0;border:0\"><tbody><tr><th style=\"padding-right:1em\">Date</th><td>22 June 1941<span style=\"display:none\"> (<span class=\"bday dtstart published updated\">1941-06-22</span>)</span> – 25 May 1945<span style=\"display:none\"> (<span class=\"bday dtstart published updated\">1945-05-25</span>)</span><sup class=\"reference\" id=\"cite_ref-2\"><a href=\"#cite_note-2\">[2]</a></sup><br/>(3 years, 11 months and 3 days)</td></tr><tr><th style=\"padding-right:1em\">Location</th><td><div class=\"location\">Europe east of Germany: <a href=\"/wiki/Central_and_Eastern_Europe\" title=\"Central and Eastern Europe\">Central and Eastern Europe</a>, in later stages Germany and Austria</div></td></tr><tr><th style=\"padding-right:1em\">Result</th><td>\n",
      "<p>Soviet victory\n",
      "</p>\n",
      "<ul><li>Fall of the <a class=\"mw-redirect\" href=\"/wiki/Third_Reich\" title=\"Third Reich\">Third Reich</a></li>\n",
      "<li><a class=\"mw-redirect\" href=\"/wiki/Allied_occupation_of_Germany\" title=\"Allied occupation of Germany\">Allied occupation of Germany</a></li>\n",
      "<li>Beginning of the <a href=\"/wiki/Cold_War\" title=\"Cold War\">Cold War</a> and creation of the <a href=\"/wiki/Eastern_Bloc\" title=\"Eastern Bloc\">Eastern Bloc</a> and the <a href=\"/wiki/Iron_Curtain\" title=\"Iron Curtain\">Iron Curtain</a></li>\n",
      "<li>Beginning of the <a href=\"/wiki/Greek_Civil_War\" title=\"Greek Civil War\">Greek Civil War</a></li></ul></td></tr><tr><th style=\"padding-right:1em\">Territorial<br/>changes</th><td>\n",
      "<li>The Soviet Union occupies <a href=\"/wiki/Central_Europe\" title=\"Central Europe\">Central</a>, <a href=\"/wiki/Eastern_Europe\" title=\"Eastern Europe\">Eastern</a>, <a class=\"mw-redirect\" href=\"/wiki/Northeastern_Europe\" title=\"Northeastern Europe\">Northeastern</a> and <a class=\"mw-redirect\" href=\"/wiki/Southeastern_Europe\" title=\"Southeastern Europe\">Southeastern Europe</a> and establishes pro-Soviet <a href=\"/wiki/Communist_state\" title=\"Communist state\">communist</a> <a href=\"/wiki/Puppet_state\" title=\"Puppet state\">puppet governments</a> in countries including <a href=\"/wiki/People%27s_Republic_of_Bulgaria\" title=\"People's Republic of Bulgaria\">Bulgaria</a>, <a href=\"/wiki/Czechoslovak_Socialist_Republic\" title=\"Czechoslovak Socialist Republic\">Czechoslovakia</a>, <a href=\"/wiki/Hungarian_People%27s_Republic\" title=\"Hungarian People's Republic\">Hungary</a>, <a href=\"/wiki/Polish_People%27s_Republic\" title=\"Polish People's Republic\">Poland</a>, <a class=\"mw-redirect\" href=\"/wiki/Romanian_People%27s_Republic\" title=\"Romanian People's Republic\">Romania</a>, and <a href=\"/wiki/East_Germany\" title=\"East Germany\">Eastern Germany</a>.</li>\n",
      "<li>Establishment of the <a class=\"mw-redirect\" href=\"/wiki/Federal_People%27s_Republic_of_Yugoslavia\" title=\"Federal People's Republic of Yugoslavia\">Federal People's Republic of Yugoslavia</a></li>\n",
      "<li><a href=\"/wiki/History_of_Germany_(1945%E2%80%931990)\" title=\"History of Germany (1945–1990)\">Partition of Germany</a></li>\n",
      "<li><a href=\"/wiki/Territorial_changes_of_Poland_immediately_after_World_War_II\" title=\"Territorial changes of Poland immediately after World War II\">Borders of Poland changed</a>.</li></td></tr></tbody></table>\n"
     ]
    }
   ],
   "source": [
    "# just for speed purposes, let's only do a few parents\n",
    "par_list = list(the_parents)\n",
    "\n",
    "for parent in par_list[0:2]:\n",
    "    print('----------------------------')\n",
    "    print(parent)"
   ]
  }
 ],
 "metadata": {
  "kernelspec": {
   "display_name": "Python 3",
   "language": "python",
   "name": "python3"
  },
  "language_info": {
   "codemirror_mode": {
    "name": "ipython",
    "version": 3
   },
   "file_extension": ".py",
   "mimetype": "text/x-python",
   "name": "python",
   "nbconvert_exporter": "python",
   "pygments_lexer": "ipython3",
   "version": "3.6.5"
  }
 },
 "nbformat": 4,
 "nbformat_minor": 2
}
