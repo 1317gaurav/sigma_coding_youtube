{
 "cells": [
  {
   "cell_type": "markdown",
   "metadata": {},
   "source": [
    "# Web Scraping the SEC Query Page\n",
    "***\n",
    "We've seen in other tutorials how to web scrape the EDGAR archives, but in this tutorial, we will explore a different part of the EDGAR database. The company search page allows us to make a specific query for a single company and their filings, and this page will then return all the documents related to that company. From here, we can filter all of their documents to the ones that meet our criteria.\n",
    "\n",
    "This includes being able to filter by a specific date or even a particular type of form. Once, we've filtered the results we can go directly to the document or if we want we can go to the filing folder containing that document. One thing to keep in mind is the scope of your search. If you search for a company name, you can get back more than one company back.\n",
    "\n",
    "This usually doesn't present a problem, but it does mean you may have to look through multiple companies to find the documents you want. It might make more sense to search by the CIK number, to get to the company you want.\n",
    "\n",
    "Link to the company search page: https://www.sec.gov/edgar/searchedgar/companysearch.html"
   ]
  },
  {
   "cell_type": "code",
   "execution_count": 3,
   "metadata": {},
   "outputs": [],
   "source": [
    "# import our libraries\n",
    "import requests\n",
    "import pandas as pd\n",
    "from bs4 import BeautifulSoup"
   ]
  },
  {
   "cell_type": "markdown",
   "metadata": {},
   "source": [
    "***\n",
    "## Section One: Define the Parameters of the Search\n",
    "To create a search we need to \"build\" a URL that takes us to a valid results query, this requires taking our base endpoint and attaching on different parameters to help narrow down our search. I'll do my best to explain how each of these parameters works, but unfortunately, there is no formal documentation on this.\n",
    "\n",
    "**Endpoint**\n",
    "The endpoint for our EDGAR query is https://www.sec.gov/cgi-bin/browse-edgar if you go to this link without any additional parameters it will be an invalid request.\n",
    "\n",
    "**Parameters**\n",
    ">- **action**: (required) By default should be set to `getcompany`.\n",
    ">- **CIK**: (required) Is the CIK number of the company you are searching.\n",
    ">- **type**: (optional) Allows filtering the type of form. For example, if set to 10-k only the 10-K filings are returned.\n",
    ">- **dateb**: (optional) Will only return the filings before a given date. The format is as follows YYYYMMDD\n",
    ">- **owner**: (required) Is set to `exclude` by default and specifies ownership. You may also set it to `include` and `only`.\n",
    ">- **start**: (optional) Is the starting index of the results. For example, if I have 100 results but want to start at 45 of 100, I would pass 45.\n",
    ">- **count**: (optional) The number of results you want to see with your request, the max is 100 and if not set it will default to 40.\n",
    "\n",
    "Now that we understand all the parameters let's make a request by defining our endpoint, and then a dictionary of our parameters. Where the key of the dictionary is the parameter name, and the value is the value we want to set for that parameter. Once we've defined these two components we can make our request and parse the response using BeautifulSoup."
   ]
  },
  {
   "cell_type": "code",
   "execution_count": 15,
   "metadata": {},
   "outputs": [
    {
     "name": "stdout",
     "output_type": "stream",
     "text": [
      "Request Successful\n"
     ]
    }
   ],
   "source": [
    "# base URL for the SEC EDGAR browser\n",
    "endpoint = r\"https://www.sec.gov/cgi-bin/browse-edgar\"\n",
    "\n",
    "# define our parameters dictionary\n",
    "param_dict = {'action':'getcompany',\n",
    "              'CIK':'1265107',\n",
    "              'type':'10-k',\n",
    "              'dateb':'20190101',\n",
    "              'owner':'exclude',\n",
    "              'start':'',\n",
    "              'count':'100'}\n",
    "\n",
    "# request the url, and then parse the response.\n",
    "response = requests.get(url = endpoint, params = param_dict)\n",
    "soup = BeautifulSoup(response.content, 'html.parser')\n",
    "\n",
    "# Let the user know it was successful.\n",
    "print('Request Successful')"
   ]
  },
  {
   "cell_type": "markdown",
   "metadata": {},
   "source": [
    "***\n",
    "## Side Note: Doing a Company Name Search\n",
    "In the search defined up above, I assumed we wanted to search by a CIK number. If this is not the case, we will do a different search, a company search. A company search is a more broad search but is simpler because it requires fewer parameters. The only new parameter we have to pass through is the `company` parameter which has the company name as it's value."
   ]
  },
  {
   "cell_type": "code",
   "execution_count": 14,
   "metadata": {},
   "outputs": [
    {
     "name": "stdout",
     "output_type": "stream",
     "text": [
      "Request Successful\n"
     ]
    }
   ],
   "source": [
    "# base URL for the SEC EDGAR browser\n",
    "endpoint = r\"https://www.sec.gov/cgi-bin/browse-edgar\"\n",
    "\n",
    "# define our parameters dictionary\n",
    "param_dict = {'action':'getcompany',\n",
    "              'owner':'exclude',\n",
    "              'company':'Goldman Sachs'}\n",
    "\n",
    "# request the url, and then parse the response.\n",
    "response = requests.get(url = endpoint, params = param_dict)\n",
    "soup = BeautifulSoup(response.content, 'html.parser')\n",
    "\n",
    "# Let the user know it was successful.\n",
    "print('Request Successful')"
   ]
  },
  {
   "cell_type": "markdown",
   "metadata": {},
   "source": [
    "***\n",
    "## Section Two: Parse the Response for the Document Details\n",
    "Once we have our response code, we need to parse it. Our first goal is to find the `table` object that has a `class` attribute of `tableFile2` as this table contains the data related to the documents and the links. Once we grabbed the table, we will iterate through each row in the table parsing the columns. Unfortunately, things can get a little tricky as some documents can contain interactive data and others don't this means that if parse them for links it will return an error because no link exists. \n",
    "\n",
    "To fix this, I wrap each link in an `if` statement that will only parse the `href` if one exists. The main links I'm looking for are the links to the document itself, the interactive data, and a link to filing folder containing that document. Keep in mind when I say filing folder what I mean is another EDGAR query but with an additional parameter called `filenum` which contains the filing number. Once, we parsed the necessary info, we store it in a dictionary and then store that dictionary in the `master_list`, this way we have a list of all the file names."
   ]
  },
  {
   "cell_type": "code",
   "execution_count": 17,
   "metadata": {},
   "outputs": [
    {
     "name": "stdout",
     "output_type": "stream",
     "text": [
      "----------------------------------------------------------------------------------------------------\n",
      "Filing Type: 10-K\n",
      "Filing Date: 2018-03-07\n",
      "Filing Number: 333-11002518671437\n",
      "Document Link: https://www.sec.gov/Archives/edgar/data/1265107/000126510718000013/0001265107-18-000013-index.htm\n",
      "Filing Number Link: https://www.sec.gov/cgi-bin/browse-edgar?action=getcompany&filenum=333-110025&owner=exclude&count=100\n",
      "Interactive Data Link: https://www.sec.gov/cgi-bin/viewer?action=view&cik=1265107&accession_number=0001265107-18-000013&xbrl_type=v\n",
      "----------------------------------------------------------------------------------------------------\n",
      "Filing Type: 10-K\n",
      "Filing Date: 2017-03-13\n",
      "Filing Number: 333-11002517683575\n",
      "Document Link: https://www.sec.gov/Archives/edgar/data/1265107/000126510717000007/0001265107-17-000007-index.htm\n",
      "Filing Number Link: https://www.sec.gov/cgi-bin/browse-edgar?action=getcompany&filenum=333-110025&owner=exclude&count=100\n",
      "Interactive Data Link: https://www.sec.gov/cgi-bin/viewer?action=view&cik=1265107&accession_number=0001265107-17-000007&xbrl_type=v\n",
      "----------------------------------------------------------------------------------------------------\n",
      "Filing Type: 10-K\n",
      "Filing Date: 2016-03-08\n",
      "Filing Number: 333-110025161489854\n",
      "Document Link: https://www.sec.gov/Archives/edgar/data/1265107/000126510716000052/0001265107-16-000052-index.htm\n",
      "Filing Number Link: https://www.sec.gov/cgi-bin/browse-edgar?action=getcompany&filenum=333-110025&owner=exclude&count=100\n",
      "Interactive Data Link: https://www.sec.gov/cgi-bin/viewer?action=view&cik=1265107&accession_number=0001265107-16-000052&xbrl_type=v\n",
      "----------------------------------------------------------------------------------------------------\n",
      "Filing Type: 10-K\n",
      "Filing Date: 2015-03-06\n",
      "Filing Number: 333-11002515681017\n",
      "Document Link: https://www.sec.gov/Archives/edgar/data/1265107/000126510715000010/0001265107-15-000010-index.htm\n",
      "Filing Number Link: https://www.sec.gov/cgi-bin/browse-edgar?action=getcompany&filenum=333-110025&owner=exclude&count=100\n",
      "Interactive Data Link: https://www.sec.gov/cgi-bin/viewer?action=view&cik=1265107&accession_number=0001265107-15-000010&xbrl_type=v\n",
      "----------------------------------------------------------------------------------------------------\n",
      "Filing Type: 10-K\n",
      "Filing Date: 2014-03-04\n",
      "Filing Number: 333-11002514664345\n",
      "Document Link: https://www.sec.gov/Archives/edgar/data/1265107/000110465914015846/0001104659-14-015846-index.htm\n",
      "Filing Number Link: https://www.sec.gov/cgi-bin/browse-edgar?action=getcompany&filenum=333-110025&owner=exclude&count=100\n",
      "Interactive Data Link: https://www.sec.gov/cgi-bin/viewer?action=view&cik=1265107&accession_number=0001104659-14-015846&xbrl_type=v\n",
      "----------------------------------------------------------------------------------------------------\n",
      "Filing Type: 10-K\n",
      "Filing Date: 2013-03-01\n",
      "Filing Number: 333-11002513655933\n",
      "Document Link: https://www.sec.gov/Archives/edgar/data/1265107/000110465913016624/0001104659-13-016624-index.htm\n",
      "Filing Number Link: https://www.sec.gov/cgi-bin/browse-edgar?action=getcompany&filenum=333-110025&owner=exclude&count=100\n",
      "Interactive Data Link: https://www.sec.gov/cgi-bin/viewer?action=view&cik=1265107&accession_number=0001104659-13-016624&xbrl_type=v\n",
      "----------------------------------------------------------------------------------------------------\n",
      "Filing Type: 10-K\n",
      "Filing Date: 2006-09-20\n",
      "Filing Number: 333-110025061099734\n",
      "Document Link: https://www.sec.gov/Archives/edgar/data/1265107/000110465906062057/0001104659-06-062057-index.htm\n",
      "Filing Number Link: https://www.sec.gov/cgi-bin/browse-edgar?action=getcompany&filenum=333-110025&owner=exclude&count=100\n",
      "Interactive Data Link: no link\n",
      "----------------------------------------------------------------------------------------------------\n",
      "Filing Type: 10-K\n",
      "Filing Date: 2005-09-23\n",
      "Filing Number: 333-110025051099353\n",
      "Document Link: https://www.sec.gov/Archives/edgar/data/1265107/000119312505190417/0001193125-05-190417-index.htm\n",
      "Filing Number Link: https://www.sec.gov/cgi-bin/browse-edgar?action=getcompany&filenum=333-110025&owner=exclude&count=100\n",
      "Interactive Data Link: no link\n"
     ]
    }
   ],
   "source": [
    "# find the document table with our data\n",
    "doc_table = soup.find_all('table', class_='tableFile2')\n",
    "\n",
    "# define a base url that will be used for link building.\n",
    "base_url_sec = r\"https://www.sec.gov\"\n",
    "\n",
    "master_list = []\n",
    "\n",
    "# loop through each row in the table.\n",
    "for row in doc_table[0].find_all('tr'):\n",
    "    \n",
    "    # find all the columns\n",
    "    cols = row.find_all('td')\n",
    "    \n",
    "    # if there are no columns move on to the next row.\n",
    "    if len(cols) != 0:        \n",
    "        \n",
    "        # grab the text\n",
    "        filing_type = cols[0].text.strip()                 \n",
    "        filing_date = cols[3].text.strip()\n",
    "        filing_numb = cols[4].text.strip()\n",
    "        \n",
    "        # find the links\n",
    "        filing_doc_href = cols[1].find('a', {'href':True, 'id':'documentsbutton'})       \n",
    "        filing_int_href = cols[1].find('a', {'href':True, 'id':'interactiveDataBtn'})\n",
    "        filing_num_href = cols[4].find('a')\n",
    "        \n",
    "        # grab the the first href\n",
    "        if filing_doc_href != None:\n",
    "            filing_doc_link = base_url_sec + filing_doc_href['href'] \n",
    "        else:\n",
    "            filing_doc_link = 'no link'\n",
    "        \n",
    "        # grab the second href\n",
    "        if filing_int_href != None:\n",
    "            filing_int_link = base_url_sec + filing_int_href['href'] \n",
    "        else:\n",
    "            filing_int_link = 'no link'\n",
    "        \n",
    "        # grab the third href\n",
    "        if filing_num_href != None:\n",
    "            filing_num_link = base_url_sec + filing_num_href['href'] \n",
    "        else:\n",
    "            filing_num_link = 'no link'\n",
    "        \n",
    "        # create and store data in the dictionary\n",
    "        file_dict = {}\n",
    "        file_dict['file_type'] = filing_type\n",
    "        file_dict['file_number'] = filing_numb\n",
    "        file_dict['file_date'] = filing_date\n",
    "        file_dict['links'] = {}\n",
    "        file_dict['links']['documents'] = filing_doc_link\n",
    "        file_dict['links']['interactive_data'] = filing_int_link\n",
    "        file_dict['links']['filing_number'] = filing_num_link\n",
    "    \n",
    "        # let the user know it's working\n",
    "        print('-'*100)        \n",
    "        print(\"Filing Type: \" + filing_type)\n",
    "        print(\"Filing Date: \" + filing_date)\n",
    "        print(\"Filing Number: \" + filing_numb)\n",
    "        print(\"Document Link: \" + filing_doc_link)\n",
    "        print(\"Filing Number Link: \" + filing_num_link)\n",
    "        print(\"Interactive Data Link: \" + filing_int_link)\n",
    "        \n",
    "        # append dictionary to master list\n",
    "        master_list.append(file_dict)\n"
   ]
  },
  {
   "cell_type": "markdown",
   "metadata": {},
   "source": [
    "***\n",
    "## Section Three: Parsing the Master List\n",
    "We the `master_list` now populated we can iterate through the dictionary in the list and grab the values we want from each dictionary by passing the keys corresponding to that value. In the example below, I want all the links from a given dictionary, so I parse the links dictionary."
   ]
  },
  {
   "cell_type": "code",
   "execution_count": 61,
   "metadata": {},
   "outputs": [
    {
     "name": "stdout",
     "output_type": "stream",
     "text": [
      "----------------------------------------------------------------------------------------------------\n",
      "https://www.sec.gov/Archives/edgar/data/1265107/000126510718000013/0001265107-18-000013-index.htm\n",
      "https://www.sec.gov/cgi-bin/browse-edgar?action=getcompany&filenum=333-110025&owner=exclude&count=100\n",
      "https://www.sec.gov/cgi-bin/viewer?action=view&cik=1265107&accession_number=0001265107-18-000013&xbrl_type=v\n",
      "----------------------------------------------------------------------------------------------------\n",
      "https://www.sec.gov/Archives/edgar/data/1265107/000126510717000007/0001265107-17-000007-index.htm\n",
      "https://www.sec.gov/cgi-bin/browse-edgar?action=getcompany&filenum=333-110025&owner=exclude&count=100\n",
      "https://www.sec.gov/cgi-bin/viewer?action=view&cik=1265107&accession_number=0001265107-17-000007&xbrl_type=v\n",
      "----------------------------------------------------------------------------------------------------\n",
      "https://www.sec.gov/Archives/edgar/data/1265107/000126510716000052/0001265107-16-000052-index.htm\n",
      "https://www.sec.gov/cgi-bin/browse-edgar?action=getcompany&filenum=333-110025&owner=exclude&count=100\n",
      "https://www.sec.gov/cgi-bin/viewer?action=view&cik=1265107&accession_number=0001265107-16-000052&xbrl_type=v\n",
      "----------------------------------------------------------------------------------------------------\n",
      "https://www.sec.gov/Archives/edgar/data/1265107/000126510715000010/0001265107-15-000010-index.htm\n",
      "https://www.sec.gov/cgi-bin/browse-edgar?action=getcompany&filenum=333-110025&owner=exclude&count=100\n",
      "https://www.sec.gov/cgi-bin/viewer?action=view&cik=1265107&accession_number=0001265107-15-000010&xbrl_type=v\n",
      "----------------------------------------------------------------------------------------------------\n",
      "https://www.sec.gov/Archives/edgar/data/1265107/000110465914015846/0001104659-14-015846-index.htm\n",
      "https://www.sec.gov/cgi-bin/browse-edgar?action=getcompany&filenum=333-110025&owner=exclude&count=100\n",
      "https://www.sec.gov/cgi-bin/viewer?action=view&cik=1265107&accession_number=0001104659-14-015846&xbrl_type=v\n",
      "----------------------------------------------------------------------------------------------------\n",
      "https://www.sec.gov/Archives/edgar/data/1265107/000110465913016624/0001104659-13-016624-index.htm\n",
      "https://www.sec.gov/cgi-bin/browse-edgar?action=getcompany&filenum=333-110025&owner=exclude&count=100\n",
      "https://www.sec.gov/cgi-bin/viewer?action=view&cik=1265107&accession_number=0001104659-13-016624&xbrl_type=v\n",
      "----------------------------------------------------------------------------------------------------\n",
      "https://www.sec.gov/Archives/edgar/data/1265107/000110465906062057/0001104659-06-062057-index.htm\n",
      "https://www.sec.gov/cgi-bin/browse-edgar?action=getcompany&filenum=333-110025&owner=exclude&count=100\n",
      "no link\n",
      "----------------------------------------------------------------------------------------------------\n",
      "https://www.sec.gov/Archives/edgar/data/1265107/000119312505190417/0001193125-05-190417-index.htm\n",
      "https://www.sec.gov/cgi-bin/browse-edgar?action=getcompany&filenum=333-110025&owner=exclude&count=100\n",
      "no link\n"
     ]
    }
   ],
   "source": [
    "# loop through to get the links from the dictionary\n",
    "for report in master_list:\n",
    "    \n",
    "    print('-'*100)\n",
    "    print(report['links']['documents'])\n",
    "    print(report['links']['filing_number'])\n",
    "    print(report['links']['interactive_data'])\n",
    "    "
   ]
  }
 ],
 "metadata": {
  "kernelspec": {
   "display_name": "Python 3",
   "language": "python",
   "name": "python3"
  },
  "language_info": {
   "codemirror_mode": {
    "name": "ipython",
    "version": 3
   },
   "file_extension": ".py",
   "mimetype": "text/x-python",
   "name": "python",
   "nbconvert_exporter": "python",
   "pygments_lexer": "ipython3",
   "version": "3.7.2"
  }
 },
 "nbformat": 4,
 "nbformat_minor": 2
}
