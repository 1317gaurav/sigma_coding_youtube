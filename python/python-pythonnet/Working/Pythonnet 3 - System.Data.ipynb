{
 "nbformat": 4,
 "nbformat_minor": 2,
 "metadata": {
  "language_info": {
   "name": "python",
   "codemirror_mode": {
    "name": "ipython",
    "version": 3
   }
  },
  "orig_nbformat": 2,
  "file_extension": ".py",
  "mimetype": "text/x-python",
  "name": "python",
  "npconvert_exporter": "python",
  "pygments_lexer": "ipython3",
  "version": 3
 },
 "cells": [
  {
   "cell_type": "markdown",
   "execution_count": null,
   "metadata": {},
   "outputs": [],
   "source": [
    "# System.Data in Pythonnet"
   ]
  },
  {
   "cell_type": "code",
   "execution_count": 38,
   "metadata": {},
   "outputs": [
    {
     "data": {
      "text/plain": "<System.Reflection.RuntimeAssembly at 0x1db180fdcc8>"
     },
     "execution_count": 38,
     "metadata": {},
     "output_type": "execute_result"
    }
   ],
   "source": [
    "import clr\n",
    "\n",
    "clr.AddReference(\"System.Data\")"
   ]
  },
  {
   "cell_type": "code",
   "execution_count": 43,
   "metadata": {},
   "outputs": [],
   "source": [
    "import System\n",
    "import System.Data as sys_data"
   ]
  },
  {
   "cell_type": "code",
   "execution_count": 44,
   "metadata": {},
   "outputs": [
    {
     "name": "stdout",
     "output_type": "stream",
     "text": "Column1\nColumn2\nColumn3\n"
    },
    {
     "ename": "ArgumentException",
     "evalue": "Column 'Product_ID' does not belong to table .\n   at System.Data.DataRow.GetDataColumn(String columnName)\r\n   at System.Data.DataRow.set_Item(String columnName, Object value)",
     "output_type": "error",
     "traceback": [
      "\u001b[1;31m---------------------------------------------------------------------------\u001b[0m",
      "\u001b[1;31mArgumentException\u001b[0m                         Traceback (most recent call last)",
      "\u001b[1;32m<ipython-input-44-f81a1a194c39>\u001b[0m in \u001b[0;36m<module>\u001b[1;34m\u001b[0m\n\u001b[0;32m     28\u001b[0m     \u001b[0mrow\u001b[0m \u001b[1;33m=\u001b[0m \u001b[0mdata_table_parent\u001b[0m\u001b[1;33m.\u001b[0m\u001b[0mNewRow\u001b[0m\u001b[1;33m(\u001b[0m\u001b[1;33m)\u001b[0m\u001b[1;33m\u001b[0m\u001b[1;33m\u001b[0m\u001b[0m\n\u001b[0;32m     29\u001b[0m     \u001b[1;31m# print(row\u001b[0m\u001b[1;33m\u001b[0m\u001b[1;33m\u001b[0m\u001b[1;33m\u001b[0m\u001b[0m\n\u001b[1;32m---> 30\u001b[1;33m     \u001b[0mrow\u001b[0m\u001b[1;33m[\u001b[0m\u001b[1;34m\"Product_ID\"\u001b[0m\u001b[1;33m]\u001b[0m \u001b[1;33m=\u001b[0m \u001b[1;34m\"0000_\"\u001b[0m \u001b[1;33m+\u001b[0m \u001b[0mstr\u001b[0m\u001b[1;33m(\u001b[0m\u001b[0mi\u001b[0m\u001b[1;33m)\u001b[0m\u001b[1;33m\u001b[0m\u001b[1;33m\u001b[0m\u001b[0m\n\u001b[0m\u001b[0;32m     31\u001b[0m     \u001b[0mrow\u001b[0m\u001b[1;33m[\u001b[0m\u001b[1;34m\"Product_Name\"\u001b[0m\u001b[1;33m]\u001b[0m \u001b[1;33m=\u001b[0m \u001b[1;34m\"Product \"\u001b[0m \u001b[1;33m+\u001b[0m \u001b[0mstr\u001b[0m\u001b[1;33m(\u001b[0m\u001b[0mi\u001b[0m\u001b[1;33m)\u001b[0m\u001b[1;33m\u001b[0m\u001b[1;33m\u001b[0m\u001b[0m\n\u001b[0;32m     32\u001b[0m     \u001b[0mrow\u001b[0m\u001b[1;33m[\u001b[0m\u001b[1;34m\"Product_Price\"\u001b[0m\u001b[1;33m]\u001b[0m \u001b[1;33m=\u001b[0m \u001b[0mi\u001b[0m \u001b[1;33m*\u001b[0m \u001b[1;36m100\u001b[0m\u001b[1;33m\u001b[0m\u001b[1;33m\u001b[0m\u001b[0m\n",
      "\u001b[1;31mArgumentException\u001b[0m: Column 'Product_ID' does not belong to table .\n   at System.Data.DataRow.GetDataColumn(String columnName)\r\n   at System.Data.DataRow.set_Item(String columnName, Object value)"
     ]
    }
   ],
   "source": [
    "data_table_parent = sys_data.DataTable()\n",
    "\n",
    "column_1 = sys_data.DataColumn()\n",
    "column_1.Name = \"Product_ID\"\n",
    "column_1.DataType = System.Type.GetType(\"System.String\")\n",
    "column_1.Unique = True\n",
    "\n",
    "column_2 = sys_data.DataColumn()\n",
    "column_2.Name = \"Product_Name\"\n",
    "column_2.DataType = System.Type.GetType(\"System.String\")\n",
    "column_2.Unique = False\n",
    "\n",
    "column_3 = sys_data.DataColumn()\n",
    "column_3.Name = \"Product_Price\"\n",
    "column_3.DataType = System.Type.GetType(\"System.Int32\")\n",
    "column_3.Unique = False\n",
    "\n",
    "data_table_parent.Columns.Add(column_1)\n",
    "data_table_parent.Columns.Add(column_2)\n",
    "data_table_parent.Columns.Add(column_3)\n",
    "\n",
    "for column in data_table_parent.Columns:\n",
    "\n",
    "    print(column.ColumnName)\n",
    "\n",
    "for i in range(0, 10):\n",
    "\n",
    "    row = data_table_parent.NewRow()\n",
    "    # print(row\n",
    "    row[\"Product_ID\"] = \"0000_\" + str(i)\n",
    "    row[\"Product_Name\"] = \"Product \" + str(i)\n",
    "    row[\"Product_Price\"] = i * 100\n",
    "\n",
    "    data_table_parent.Rows.Add(row)\n",
    "\n"
   ]
  },
  {
   "cell_type": "code",
   "execution_count": 27,
   "metadata": {},
   "outputs": [
    {
     "name": "stdout",
     "output_type": "stream",
     "text": "False\n"
    }
   ],
   "source": [
    "data_reader = data_table_parent.CreateDataReader()\n",
    "\n",
    "print(data_reader.HasRows)\n",
    "if data_reader.HasRows == True:\n",
    "\n",
    "    print(\"hi\")\n",
    "\n",
    "    while data_reader.Read():\n",
    "\n",
    "        for row in range(0, data_reader.FieldCount):\n",
    "\n",
    "            print(str(data_reader[row]) + \" \")\n"
   ]
  },
  {
   "cell_type": "code",
   "execution_count": null,
   "metadata": {},
   "outputs": [],
   "source": []
  }
 ]
}