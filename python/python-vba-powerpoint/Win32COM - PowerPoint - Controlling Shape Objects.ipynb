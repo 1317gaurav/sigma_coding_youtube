{
 "cells": [
  {
   "cell_type": "code",
   "execution_count": 34,
   "metadata": {},
   "outputs": [
    {
     "data": {
      "text/plain": [
       "<win32com.gen_py.None.Application>"
      ]
     },
     "execution_count": 34,
     "metadata": {},
     "output_type": "execute_result"
    }
   ],
   "source": [
    "# import our libraries\n",
    "import win32com.client\n",
    "\n",
    "# get the instance of PowerPoint\n",
    "PPTApp = win32com.client.GetActiveObject(\"PowerPoint.Application\")"
   ]
  },
  {
   "cell_type": "code",
   "execution_count": 52,
   "metadata": {},
   "outputs": [],
   "source": [
    "# print some details\n",
    "print(PPTApp.OperatingSystem)\n",
    "print(PPTApp.Path)\n",
    "print(PPTApp.ProductCode)\n",
    "\n",
    "# created a reference to a PowerPoint Presentation Object\n",
    "PPTPres = PPTApp.Presentations(\"ExcelToPowerPoint.pptm\")\n",
    "\n",
    "# properties of our PPTPres Object\n",
    "print(PPTPres.Name)\n",
    "print(PPTPres.Path)\n",
    "\n",
    "# methods of our PPTPres Object\n",
    "PPTPres.Save()\n",
    "\n",
    "# Working with the Fonts Collection\n",
    "for font in PPTPres.Fonts:\n",
    "    print(font.Name)\n",
    "    print(font.Size)\n",
    "    print(font.Italic)\n",
    "\n",
    "# create a reference to a slide\n",
    "PPTSlide1 = PPTPres.Slides(1)\n",
    "PPTSlide2 = PPTPres.Slides(\"Slide2\")\n",
    "\n",
    "# loop through all of the slides in our presentation\n",
    "for PPTSlide in PPTPres.Slides:\n",
    "    print(PPTSlide.Name)\n",
    "    print(PPTSlide.Shapes.Count)\n",
    "    print(PPTSlide.SlideID)\n",
    "\n",
    "# Create a reference to a shape\n",
    "PPTShape1 = PPTSlide1.Shapes(1)\n",
    "PPTShape2 = PPTSlide2.Shapes(\"Object 1\")\n",
    "\n",
    "# Select the shape\n",
    "PPTShape2.Select()\n",
    "\n",
    "# Put the selection into a shape range object\n",
    "ShpRng = PPTApp.ActiveWindow.Selection.ShapeRange\n",
    "\n",
    "# set the dimensions of our shape range\n",
    "ShpRng.Height = 200\n",
    "ShpRng.Width = 200\n",
    "ShpRng.Align(1, 1)\n",
    "ShpRng.Align(4, 1)"
   ]
  }
 ],
 "metadata": {
  "kernelspec": {
   "display_name": "Python 3",
   "language": "python",
   "name": "python3"
  },
  "language_info": {
   "codemirror_mode": {
    "name": "ipython",
    "version": 3
   },
   "file_extension": ".py",
   "mimetype": "text/x-python",
   "name": "python",
   "nbconvert_exporter": "python",
   "pygments_lexer": "ipython3",
   "version": "3.7.3"
  }
 },
 "nbformat": 4,
 "nbformat_minor": 2
}