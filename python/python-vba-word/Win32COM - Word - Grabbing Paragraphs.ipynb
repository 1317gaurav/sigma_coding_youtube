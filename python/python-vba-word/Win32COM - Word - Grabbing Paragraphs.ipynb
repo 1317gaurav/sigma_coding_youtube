{
 "cells": [
  {
   "cell_type": "code",
   "execution_count": 1,
   "metadata": {},
   "outputs": [],
   "source": [
    "import win32com.client as win32\n",
    "\n",
    "WordApp = win32.gencache.EnsureDispatch(\"Word.Application\")"
   ]
  },
  {
   "cell_type": "code",
   "execution_count": 38,
   "metadata": {},
   "outputs": [
    {
     "name": "stdout",
     "output_type": "stream",
     "text": [
      "{'html_attributions': [], 'result': {'formatted_phone_number': '(619) 232-8931', 'name': 'Motel 6 San Diego Airport - Harbor'}, 'status': 'OK'}\n",
      "{'html_attributions': [], 'result': {'formatted_phone_number': '(619) 752-1100', 'name': 'Travelodge by Wyndham San Diego Downtown Convention Center'}, 'status': 'OK'}\n",
      "{'html_attributions': [], 'result': {'formatted_phone_number': '(619) 435-3000', 'name': 'Coronado Island Marriott Resort & Spa'}, 'status': 'OK'}\n",
      "{'html_attributions': [], 'result': {'formatted_phone_number': '(619) 291-0999', 'name': 'Inn at the Park'}, 'status': 'OK'}\n",
      "{'html_attributions': [], 'result': {'formatted_phone_number': '(619) 291-2900', 'name': 'Sheraton San Diego Hotel & Marina'}, 'status': 'OK'}\n",
      "{'html_attributions': [], 'result': {'formatted_phone_number': '(800) 437-0162', 'name': 'La Avenida Inn'}, 'status': 'OK'}\n",
      "{'html_attributions': [], 'result': {'formatted_phone_number': '(619) 435-4131', 'name': 'The El Cordova Hotel'}, 'status': 'OK'}\n",
      "{'html_attributions': [], 'result': {'formatted_phone_number': '(619) 437-1666', 'name': 'Best Western Plus Suites Hotel Coronado Island'}, 'status': 'OK'}\n",
      "{'html_attributions': [], 'result': {'formatted_phone_number': '(877) 681-4170', 'name': 'Coronado Beach Resort'}, 'status': 'OK'}\n",
      "{'html_attributions': [], 'result': {'formatted_phone_number': '(619) 435-6611', 'name': 'Hotel del Coronado, Curio Collection by Hilton'}, 'status': 'OK'}\n",
      "{'html_attributions': [], 'result': {'formatted_phone_number': '(619) 228-9234', 'name': 'ITH Adventure Hostel San Diego'}, 'status': 'OK'}\n",
      "{'html_attributions': [], 'result': {'formatted_phone_number': '(619) 291-6700', 'name': 'Hilton San Diego Airport/Harbor Island'}, 'status': 'OK'}\n",
      "{'html_attributions': [], 'result': {'formatted_phone_number': '(619) 296-2101', 'name': 'The Lafayette Hotel, Swim Club & Bungalows'}, 'status': 'OK'}\n",
      "{'html_attributions': [], 'result': {'formatted_phone_number': '(619) 299-7400', 'name': 'Fairfield Inn & Suites by Marriott San Diego Old Town'}, 'status': 'OK'}\n",
      "{'html_attributions': [], 'result': {'formatted_phone_number': '(619) 234-6344', 'name': 'San Diego Downtown Lodge'}, 'status': 'OK'}\n",
      "{'html_attributions': [], 'result': {'formatted_phone_number': '(619) 291-9100', 'name': 'La Quinta Inn & Suites by Wyndham San Diego Old Town/Airport'}, 'status': 'OK'}\n",
      "{'html_attributions': [], 'result': {'formatted_phone_number': '(619) 291-1300', 'name': 'Best Western Seven Seas'}, 'status': 'OK'}\n",
      "{'html_attributions': [], 'result': {'formatted_phone_number': '(619) 298-6888', 'name': 'Western Inn-Old Town'}, 'status': 'OK'}\n",
      "{'html_attributions': [], 'result': {'formatted_phone_number': '(619) 297-2231', 'name': 'Kings Inn San Diego'}, 'status': 'OK'}\n",
      "{'html_attributions': [], 'result': {'formatted_phone_number': '(619) 881-6900', 'name': 'DoubleTree by Hilton San Diego Hotel Circle'}, 'status': 'OK'}\n"
     ]
    }
   ],
   "source": [
    "import googlemaps\n",
    "import json\n",
    "import pprint\n",
    "import time\n",
    "\n",
    "WordDoc = WordApp.Documents(\"ApiReport.docx\")\n",
    "\n",
    "# Define the Client\n",
    "gmaps = googlemaps.Client(key = 'YOUR_API_KEY')\n",
    "\n",
    "# create a list to help with pagnation\n",
    "place_result_list = []\n",
    "\n",
    "# Do a simple nearby search where we specify the location\n",
    "# in lat/lon format, along with a radius measured in meters\n",
    "places_result  = gmaps.places_nearby(location='32.715736,-117.161087', \n",
    "                                     radius = 40000, \n",
    "                                     open_now = False , \n",
    "                                     type = 'coffee')\n",
    "\n",
    "# append the results to the master list.\n",
    "place_result_list.append(places_result)\n",
    "\n",
    "# as long as there is a next page token keep making requests.\n",
    "# make sure to pause it, and append the results to the master list.\n",
    "while 'next_page_token' in places_result.keys():\n",
    "\n",
    "    time.sleep(3)\n",
    "    places_result  = gmaps.places_nearby(page_token = places_result['next_page_token'])\n",
    "    place_result_list.append(places_result)\n",
    "\n",
    "\n",
    "places_details_list = []\n",
    "\n",
    "#loop through each of the places in the results, and get the place details.      \n",
    "for place in places_result['results']:\n",
    "\n",
    "    # define the place id, needed to get place details. Formatted as a string.\n",
    "    my_place_id = place['place_id']\n",
    "\n",
    "    # define the fields you would liked return. Formatted as a list.\n",
    "    my_fields = ['name','formatted_phone_number']\n",
    "\n",
    "    # make a request for the details.\n",
    "    places_details  = gmaps.place(place_id= my_place_id , fields= my_fields)\n",
    "\n",
    "    details_list = []\n",
    "    details_list.append(place['place_id'])\n",
    "    details_list.append(places_details['result'])\n",
    "    \n",
    "    # print the results of the details, returned as a dictionary.\n",
    "    places_details_list.append(details_list)\n",
    "    print(places_details)"
   ]
  },
  {
   "cell_type": "code",
   "execution_count": 55,
   "metadata": {},
   "outputs": [
    {
     "name": "stdout",
     "output_type": "stream",
     "text": [
      "['ChIJP0KesbRU2YARuazY0l9_5ko', {'formatted_phone_number': '(619) 232-8931', 'name': 'Motel 6 San Diego Airport - Harbor'}]\n",
      "['ChIJoZ8I3GtT2YAR8jUC3Ddm9aQ', {'formatted_phone_number': '(619) 752-1100', 'name': 'Travelodge by Wyndham San Diego Downtown Convention Center'}]\n"
     ]
    }
   ],
   "source": [
    "# Grab the selection range\n",
    "WrdRng = WordApp.Selection.Range\n",
    "\n",
    "# Go through the first two items\n",
    "for place in places_details_list[:2]:\n",
    "    \n",
    "    # add a table\n",
    "    WrdTbl = WordDoc.Tables.Add(WrdRng, 4, 2)\n",
    "\n",
    "    # define it's style\n",
    "    WrdTbl.Style = \"Grid Table 1 Light - Accent 1\"\n",
    "\n",
    "    # column headers\n",
    "    WrdTbl.Cell(1, 1).Range.Text = \"Attribute\"\n",
    "    WrdTbl.Cell(1, 2).Range.Text = \"Value\"\n",
    "    \n",
    "    for index, detail in enumerate(place):\n",
    "\n",
    "        # add header\n",
    "        if index == 0:\n",
    "            WrdTbl.Cell(index + 2, 1).Range.Text = \"Place ID\"\n",
    "\n",
    "            # add value\n",
    "            WrdTbl.Cell(index + 2, 2).Range.Text = detail\n",
    "            \n",
    "        # add header\n",
    "        elif index == 1:\n",
    "            WrdTbl.Cell(index + 2, 1).Range.Text = \"Phone Number\"\n",
    "\n",
    "            # add value\n",
    "            WrdTbl.Cell(index + 2, 2).Range.Text = detail['formatted_phone_number']            \n",
    "\n",
    "            # add header\n",
    "            WrdTbl.Cell(index + 3, 1).Range.Text = \"Name\"\n",
    "\n",
    "            # add value\n",
    "            WrdTbl.Cell(index + 3, 2).Range.Text = detail['name'] \n",
    "\n",
    "    # go to the next selection    \n",
    "    WrdRng = WordApp.Selection.Next(5).Select\n",
    "    WrdRng = WordApp.Selection.Range\n",
    "\n",
    "    print(place)"
   ]
  }
 ],
 "metadata": {
  "kernelspec": {
   "display_name": "Python 3",
   "language": "python",
   "name": "python3"
  },
  "language_info": {
   "codemirror_mode": {
    "name": "ipython",
    "version": 3
   },
   "file_extension": ".py",
   "mimetype": "text/x-python",
   "name": "python",
   "nbconvert_exporter": "python",
   "pygments_lexer": "ipython3",
   "version": "3.7.3"
  }
 },
 "nbformat": 4,
 "nbformat_minor": 2
}