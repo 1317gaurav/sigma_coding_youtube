{
 "cells": [
  {
   "cell_type": "code",
   "execution_count": 1,
   "metadata": {},
   "outputs": [],
   "source": [
    "import win32com.client as win32\n",
    "\n",
    "# Create an instance of the Word App using Early Binding\n",
    "WordApp = win32.gencache.EnsureDispatch('Word.Application')"
   ]
  },
  {
   "cell_type": "code",
   "execution_count": null,
   "metadata": {},
   "outputs": [],
   "source": [
    "# make the app visible\n",
    "WordApp.Visible = True\n",
    "\n",
    "# add a document.\n",
    "WrdDoc = WordApp.Documents.Add()"
   ]
  },
  {
   "cell_type": "code",
   "execution_count": null,
   "metadata": {},
   "outputs": [],
   "source": [
    "# create a Word Document com object using Early Binding.\n",
    "WrdDoc = win32.gencache.EnsureDispatch(WordApp.Documents(1))\n",
    "\n",
    "# because I used early binding, I can see all of the methods.\n",
    "help(WrdDoc)\n",
    "\n",
    "# I can also get the attributes of the objects within it.\n",
    "help(WrdDoc.__getattr__('Paragraphs'))"
   ]
  },
  {
   "cell_type": "code",
   "execution_count": null,
   "metadata": {},
   "outputs": [],
   "source": [
    "from bs4 import BeautifulSoup\n",
    "import requests\n",
    "\n",
    "html_code = requests.get('https://en.wikipedia.org/wiki/Star_Wars').content\n",
    "\n",
    "# dump the code in a BeautifulSoup parser\n",
    "soup = BeautifulSoup(html_code, 'html.parser')\n",
    "\n",
    "# let's look for all the `images`\n",
    "images = soup.find_all('img')\n",
    "\n",
    "# Get the number of rows we will need\n",
    "numrows = len(images)\n",
    "\n",
    "# Add a table to the document and set the style\n",
    "WrdTbl = WrdDoc.Tables.Add(WrdDoc.Paragraphs(1).Range, numrows, 2)\n",
    "WrdTbl.Style = \"Grid Table 1 Light - Accent 1\"\n",
    "\n",
    "# Populate the header rows\n",
    "WrdTbl.Cell(1, 1).Range.Text = \"Link Number\"\n",
    "WrdTbl.Cell(1, 2).Range.Text = \"Link \"\n",
    "\n",
    "# loop through each of the images, add a paragrph and put the link the document.\n",
    "for index, img in enumerate(images):    \n",
    "    \n",
    "    # populate each cell in the table with the link and link ID\n",
    "    WrdTbl.Cell(index + 2, 1).Range.Text = \"Link: \" + str(index)\n",
    "    WrdTbl.Cell(index + 2, 2).Range.Text = img['src'].replace(r'//', 'https://')"
   ]
  }
 ],
 "metadata": {
  "kernelspec": {
   "display_name": "Python 3",
   "language": "python",
   "name": "python3"
  },
  "language_info": {
   "codemirror_mode": {
    "name": "ipython",
    "version": 3
   },
   "file_extension": ".py",
   "mimetype": "text/x-python",
   "name": "python",
   "nbconvert_exporter": "python",
   "pygments_lexer": "ipython3",
   "version": "3.7.1"
  }
 },
 "nbformat": 4,
 "nbformat_minor": 2
}
