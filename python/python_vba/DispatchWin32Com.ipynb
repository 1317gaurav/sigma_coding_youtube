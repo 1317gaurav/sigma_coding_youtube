{
 "cells": [
  {
   "cell_type": "code",
   "execution_count": 11,
   "metadata": {},
   "outputs": [
    {
     "data": {
      "text/plain": [
       "<win32com.gen_py.Microsoft Excel 16.0 Object Library._Application instance at 0x2984097195064>"
      ]
     },
     "metadata": {},
     "output_type": "display_data"
    },
    {
     "data": {
      "text/plain": [
       "<win32com.gen_py.Microsoft Excel 16.0 Object Library._Application instance at 0x2984097195288>"
      ]
     },
     "metadata": {},
     "output_type": "display_data"
    }
   ],
   "source": [
    "# import our libraries\n",
    "import win32com.client as win32\n",
    "\n",
    "# Using the dispatch method, method one using the ProgID\n",
    "ExcelApp1 = win32.Dispatch(\"Excel.Application\")\n",
    "\n",
    "# Using the dispatch method, method two using the CLSID\n",
    "ExcelApp2 = win32.Dispatch(\"{00024500-0000-0000-C000-000000000046}\")\n",
    "\n",
    "display(ExcelApp1)\n",
    "display(ExcelApp2)"
   ]
  },
  {
   "cell_type": "code",
   "execution_count": 15,
   "metadata": {
    "scrolled": true
   },
   "outputs": [
    {
     "data": {
      "text/plain": [
       "win32com.client.dynamic.CDispatch"
      ]
     },
     "metadata": {},
     "output_type": "display_data"
    },
    {
     "data": {
      "text/plain": [
       "win32com.gen_py.00020813-0000-0000-C000-000000000046x0x1x9._Application._Application"
      ]
     },
     "metadata": {},
     "output_type": "display_data"
    }
   ],
   "source": [
    "\n",
    "#create an instance of word using late binding\n",
    "WordApp = win32.dynamic.Dispatch(\"Word.Application\")\n",
    "\n",
    "# create an instance of Excel using Early Binding\n",
    "ExcelApp = win32.gencache.EnsureDispatch(\"Excel.Application\")\n",
    "\n",
    "display(type(WordApp))\n",
    "display(type(ExcelApp))"
   ]
  }
 ],
 "metadata": {
  "kernelspec": {
   "display_name": "Python 3",
   "language": "python",
   "name": "python3"
  },
  "language_info": {
   "codemirror_mode": {
    "name": "ipython",
    "version": 3
   },
   "file_extension": ".py",
   "mimetype": "text/x-python",
   "name": "python",
   "nbconvert_exporter": "python",
   "pygments_lexer": "ipython3",
   "version": "3.6.5"
  }
 },
 "nbformat": 4,
 "nbformat_minor": 2
}
